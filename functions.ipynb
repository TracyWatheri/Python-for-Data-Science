{
 "cells": [
  {
   "cell_type": "markdown",
   "metadata": {},
   "source": [
    "Write a shutting down program:\n",
    "\n",
    "First, def a function, shut_down, that takes one argument s.\n",
    "Then, if the shut_down function receives an s equal to \"yes\",\n",
    "it should return \"Shutting down\" Alternatively,\n",
    "elif s is equal to \"no\", then the function should \n",
    "return \"Shutdown aborted\". Finally, if shut_down gets anything other than those inputs,\n",
    "the function should return \"Sorry\"."
   ]
  },
  {
   "cell_type": "code",
   "execution_count": 1,
   "metadata": {},
   "outputs": [],
   "source": [
    "def shut_down (s):\n",
    "    \"\"\"\n",
    "    This function an arg s which returns whether to shutdown or abort the computer.\n",
    "    arg type = \"string\"\n",
    "    return type = \" string\"\n",
    "    \"\"\"\n",
    "    if s == \"Yes\":\n",
    "        print(\"shutting down\")\n",
    "    elif s==\"No\":\n",
    "        print(\"Shutdown Aborted\")\n",
    "    else:\n",
    "        print(\"Sorry\")"
   ]
  },
  {
   "cell_type": "code",
   "execution_count": 2,
   "metadata": {},
   "outputs": [
    {
     "name": "stdout",
     "output_type": "stream",
     "text": [
      "shutting down\n"
     ]
    }
   ],
   "source": [
    "shut_down (\"Yes\")"
   ]
  },
  {
   "cell_type": "markdown",
   "metadata": {},
   "source": [
    "Define a function called hotel_cost with one argument nights as input.\n",
    "The hotel costs $140 per night.\n",
    "So, the function hotel_cost should return 140 * nights."
   ]
  },
  {
   "cell_type": "code",
   "execution_count": 3,
   "metadata": {},
   "outputs": [],
   "source": [
    "def hotel_cost (nights):\n",
    "    \"\"\"\n",
    "    This funtion takes in the number of nights a person spends in a hotel and returns the cost he?she is to pay.\n",
    "    arg type = int\n",
    "    return type = int    \n",
    "    \"\"\"\n",
    "    return (140 * nights)\n"
   ]
  },
  {
   "cell_type": "code",
   "execution_count": 4,
   "metadata": {},
   "outputs": [
    {
     "data": {
      "text/plain": [
       "420"
      ]
     },
     "execution_count": 4,
     "metadata": {},
     "output_type": "execute_result"
    }
   ],
   "source": [
    "hotel_cost(3)"
   ]
  },
  {
   "cell_type": "markdown",
   "metadata": {},
   "source": [
    "Define a function called plane_ride_cost that takes a string, city, as input.\n",
    "The function should return a different price depending on the location, similar to the code example above.\n",
    "Below are the valid destinations and their corresponding round-trip prices.\n",
    "\"Charlotte\": 183\n",
    "\"Tampa\": 220\n",
    "\"Pittsburgh\": 222\n",
    "\"Los Angeles\": 475"
   ]
  },
  {
   "cell_type": "code",
   "execution_count": 5,
   "metadata": {},
   "outputs": [],
   "source": [
    "def plane_ride_cost (city):\n",
    "    \"\"\"\n",
    "    this function takes in the location where the place is travelling to and returns the prices with respect to the location.\n",
    "    arg type = string\n",
    "    return type = int\n",
    "    \"\"\"\n",
    "    if city == \"Charlotte\":\n",
    "        return (183)\n",
    "    elif city == \"Tampa\":\n",
    "        return (220)\n",
    "    elif city == \"Pittsburgh\":\n",
    "        return (222)\n",
    "    elif city == \"Los Angeles\":\n",
    "        return (475)\n",
    "    "
   ]
  },
  {
   "cell_type": "code",
   "execution_count": 6,
   "metadata": {},
   "outputs": [
    {
     "data": {
      "text/plain": [
       "220"
      ]
     },
     "execution_count": 6,
     "metadata": {},
     "output_type": "execute_result"
    }
   ],
   "source": [
    "plane_ride_cost(\"Tampa\")"
   ]
  },
  {
   "cell_type": "markdown",
   "metadata": {},
   "source": [
    "-Below your existing code, define a function called rental_car_cost with an argument called days. Calculate the cost of renting the car: Every day you rent the car costs $40.(cost=40*days) if you rent the car for 7 or more days, you get $50 off your total(cost-=50). Alternatively (elif), if you rent the car for 3 or more days, you get $20 off your total. You cannot get both of the above discounts. Return that cost. -Then, define a function called trip_cost that takes two arguments, city and days. Like the example above, have your function return the sum of calling the rental_car_cost(days), hotel_cost(days), and plane_ride_cost(city) functions."
   ]
  },
  {
   "cell_type": "code",
   "execution_count": 7,
   "metadata": {},
   "outputs": [],
   "source": [
    "def rental_car_cost (days):\n",
    "    \"\"\"\n",
    "    This function takes in an arg days, calculates the cost of renting a car for a particular number of days and returns the total cost.\n",
    "    arg type : int\n",
    "    return type : int\n",
    "    \"\"\"\n",
    "    cost = 40 * days\n",
    "    if days >= 7:\n",
    "        cost -= 50\n",
    "        return (cost)\n",
    "    elif days >= 3 and days <7:\n",
    "        cost -= 20\n",
    "        return (cost)\n",
    "    else:\n",
    "        return (cost)\n",
    "        "
   ]
  },
  {
   "cell_type": "code",
   "execution_count": 8,
   "metadata": {},
   "outputs": [
    {
     "data": {
      "text/plain": [
       "80"
      ]
     },
     "execution_count": 8,
     "metadata": {},
     "output_type": "execute_result"
    }
   ],
   "source": [
    "rental_car_cost(2)"
   ]
  },
  {
   "cell_type": "code",
   "execution_count": 9,
   "metadata": {},
   "outputs": [
    {
     "data": {
      "text/plain": [
       "350"
      ]
     },
     "execution_count": 9,
     "metadata": {},
     "output_type": "execute_result"
    }
   ],
   "source": [
    "rental_car_cost(10)\n",
    "    "
   ]
  },
  {
   "cell_type": "code",
   "execution_count": null,
   "metadata": {},
   "outputs": [],
   "source": []
  }
 ],
 "metadata": {
  "kernelspec": {
   "display_name": "Python 3",
   "language": "python",
   "name": "python3"
  },
  "language_info": {
   "codemirror_mode": {
    "name": "ipython",
    "version": 3
   },
   "file_extension": ".py",
   "mimetype": "text/x-python",
   "name": "python",
   "nbconvert_exporter": "python",
   "pygments_lexer": "ipython3",
   "version": "3.7.1"
  }
 },
 "nbformat": 4,
 "nbformat_minor": 2
}
